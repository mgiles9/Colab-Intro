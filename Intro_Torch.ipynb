{
  "nbformat": 4,
  "nbformat_minor": 0,
  "metadata": {
    "colab": {
      "provenance": [],
      "authorship_tag": "ABX9TyNWKMAt0BaD3J4rU7+qPKdh",
      "include_colab_link": true
    },
    "kernelspec": {
      "name": "python3",
      "display_name": "Python 3"
    },
    "language_info": {
      "name": "python"
    }
  },
  "cells": [
    {
      "cell_type": "markdown",
      "metadata": {
        "id": "view-in-github",
        "colab_type": "text"
      },
      "source": [
        "<a href=\"https://colab.research.google.com/github/mgiles9/Colab-Intro/blob/main/Intro_Torch.ipynb\" target=\"_parent\"><img src=\"https://colab.research.google.com/assets/colab-badge.svg\" alt=\"Open In Colab\"/></a>"
      ]
    },
    {
      "cell_type": "markdown",
      "source": [
        "# Tensors\n",
        "\n"
      ],
      "metadata": {
        "id": "SCjmUMJDm_W-"
      }
    },
    {
      "cell_type": "markdown",
      "source": [
        "A torch.Tensor is a multidimentional matrix containing elements of a single data type.\n",
        "\n",
        "ensors are very similar to Numpy Arrays (which are pretty similar to Python Lists).\n",
        "\n",
        "Unlike Numpy Arrays, Tensors are built to be used with GPU's for Deep Learning as they have many things imbed to make GPU's work better.\n",
        "\n",
        "Default data type of float32\n"
      ],
      "metadata": {
        "id": "ARwPxz8Gm4Bz"
      }
    },
    {
      "cell_type": "code",
      "execution_count": 3,
      "metadata": {
        "id": "NmfxqrIujqRC"
      },
      "outputs": [],
      "source": [
        "import torch\n",
        "import numpy as np"
      ]
    },
    {
      "cell_type": "code",
      "source": [
        "\n"
      ],
      "metadata": {
        "id": "Le3RPWBRj3yQ"
      },
      "execution_count": null,
      "outputs": []
    },
    {
      "cell_type": "markdown",
      "source": [
        "# Lists\n"
      ],
      "metadata": {
        "id": "3BI6vHHnno6J"
      }
    }
  ]
}